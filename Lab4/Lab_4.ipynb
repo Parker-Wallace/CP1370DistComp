{
 "cells": [
  {
   "cell_type": "code",
   "execution_count": 0,
   "metadata": {
    "application/vnd.databricks.v1+cell": {
     "cellMetadata": {
      "byteLimit": 2048000,
      "rowLimit": 10000
     },
     "inputWidgets": {},
     "nuid": "05e6a3e7-14b3-4f61-a7f9-48bd5e76f157",
     "showTitle": false,
     "tableResultSettingsMap": {},
     "title": ""
    }
   },
   "outputs": [],
   "source": [
    "from pyspark.sql.functions import to_date, col, lit, month, date_format, lower\n",
    "data = spark.read.csv('dbfs:/FileStore/tables/crimes_2017.csv', header=True, inferSchema=True).withColumn('Date', to_date(col('Date'), 'MM/dd/yyyy hh:mm:ss a'))"
   ]
  },
  {
   "cell_type": "markdown",
   "metadata": {},
   "source": [
    "# Lab #4 PySpark DataFrame "
   ]
  },
  {
   "cell_type": "markdown",
   "metadata": {},
   "source": [
    "- Once you have the dataframe loaded: \n",
    "    - display the first 5 rows. Including: \n",
    "        - the code which loaded the dataframe \n",
    "        - which transformations are being performed and,\n",
    "        - which actions are being performed? "
   ]
  },
  {
   "cell_type": "code",
   "execution_count": 0,
   "metadata": {
    "application/vnd.databricks.v1+cell": {
     "cellMetadata": {
      "byteLimit": 2048000,
      "rowLimit": 10000
     },
     "inputWidgets": {},
     "nuid": "4d162cc1-262d-43d1-8b8e-08d0ff102585",
     "showTitle": false,
     "tableResultSettingsMap": {},
     "title": ""
    }
   },
   "outputs": [
    {
     "name": "stdout",
     "output_type": "stream",
     "text": [
      "+--------+-----------+----------+--------------------+----+-------------------+--------------------+--------------------+------+--------+----+--------+----+--------------+--------+------------+------------+----+--------------------+--------+---------+--------+\n",
      "|      ID|Case Number|      Date|               Block|IUCR|       Primary Type|         Description|Location Description|Arrest|Domestic|Beat|District|Ward|Community Area|FBI Code|X Coordinate|Y Coordinate|Year|          Updated On|Latitude|Longitude|Location|\n",
      "+--------+-----------+----------+--------------------+----+-------------------+--------------------+--------------------+------+--------+----+--------+----+--------------+--------+------------+------------+----+--------------------+--------+---------+--------+\n",
      "|11227634|   JB147599|2017-08-26| 001XX W RANDOLPH ST|0281|CRIM SEXUAL ASSAULT|      NON-AGGRAVATED|         HOTEL/MOTEL| false|   false| 122|       1|  42|            32|      02|        null|        null|2017|02/11/2018 03:57:...|    null|     null|    null|\n",
      "|11037549|   JA371812|2017-07-30| 004XX N DEARBORN ST|0870|              THEFT|      POCKET-PICKING|               ALLEY| false|   false|1831|      18|  42|             8|      06|        null|        null|2017|08/06/2017 03:53:...|    null|     null|    null|\n",
      "|11228565|   JB148941|2017-12-16|102XX S EBERHART AVE|0610|           BURGLARY|      FORCIBLE ENTRY|     VACANT LOT/LAND| false|   false| 511|       5|   9|            49|      05|        null|        null|2017|02/12/2018 03:49:...|    null|     null|    null|\n",
      "|11243119|   JB168573|2017-11-02|   063XX N MOZART ST|2825|      OTHER OFFENSE|HARASSMENT BY TEL...|           APARTMENT| false|   false|2413|      24|  50|             2|      26|        null|        null|2017|03/01/2018 03:54:...|    null|     null|    null|\n",
      "|11229320|   JB150109|2017-09-29|058XX N CUMBERLAN...|0820|              THEFT|      $500 AND UNDER|         CTA STATION| false|   false|1614|      16|  41|            76|      06|        null|        null|2017|02/13/2018 03:58:...|    null|     null|    null|\n",
      "+--------+-----------+----------+--------------------+----+-------------------+--------------------+--------------------+------+--------+----+--------+----+--------------+--------+------------+------------+----+--------------------+--------+---------+--------+\n",
      "only showing top 5 rows\n",
      "\n"
     ]
    }
   ],
   "source": [
    "data.show(5)\n",
    "# spark.read.csv is a transformation which returns a dataframe from the csv file\n",
    "# withcolumn is an action which creates a column 'date' from the date column in the csv using the MM/dd/yyyy hh:mm:ss a format"
   ]
  },
  {
   "cell_type": "markdown",
   "metadata": {},
   "source": [
    "- Output the top 5 dates for reported crimes and the number of crimes on each day.  \n",
    "    - Order in descending order by the number of crimes reported. Lab Exercise part 3 (4 marks)\n"
   ]
  },
  {
   "cell_type": "code",
   "execution_count": 0,
   "metadata": {
    "application/vnd.databricks.v1+cell": {
     "cellMetadata": {
      "byteLimit": 2048000,
      "rowLimit": 10000
     },
     "inputWidgets": {},
     "nuid": "9154f548-8c18-4d88-a19a-b1447a631aa7",
     "showTitle": false,
     "tableResultSettingsMap": {},
     "title": ""
    }
   },
   "outputs": [
    {
     "name": "stdout",
     "output_type": "stream",
     "text": [
      "+----------+-----+\n",
      "|      Date|count|\n",
      "+----------+-----+\n",
      "|2017-01-01| 1256|\n",
      "|2017-08-01|  965|\n",
      "|2017-07-01|  937|\n",
      "|2017-08-05|  928|\n",
      "|2017-08-04|  926|\n",
      "+----------+-----+\n",
      "only showing top 5 rows\n",
      "\n"
     ]
    }
   ],
   "source": [
    "top5Dates = data.groupBy('Date').count().sort('count', ascending=False)\n",
    "top5Dates.show(5)"
   ]
  },
  {
   "cell_type": "markdown",
   "metadata": {},
   "source": [
    "    - Output the top 3 crimes reported and the number of times each was reported, for the day with the most number of reported crimes from part 3."
   ]
  },
  {
   "cell_type": "code",
   "execution_count": 0,
   "metadata": {
    "application/vnd.databricks.v1+cell": {
     "cellMetadata": {
      "byteLimit": 2048000,
      "rowLimit": 10000
     },
     "inputWidgets": {},
     "nuid": "5c8e4d1d-7038-4419-8408-0ccd4d326253",
     "showTitle": false,
     "tableResultSettingsMap": {},
     "title": ""
    }
   },
   "outputs": [
    {
     "name": "stdout",
     "output_type": "stream",
     "text": [
      "+------------------+-----+\n",
      "|      Primary Type|count|\n",
      "+------------------+-----+\n",
      "|DECEPTIVE PRACTICE|  208|\n",
      "|           BATTERY|  207|\n",
      "|             THEFT|  187|\n",
      "+------------------+-----+\n",
      "only showing top 3 rows\n",
      "\n"
     ]
    }
   ],
   "source": [
    "top3Crimes = (data.filter(col(\"Date\") == top5Dates.first()[\"Date\"])\n",
    ".groupBy(\"Primary Type\")\n",
    ".count()\n",
    ".sort('count', ascending=False))\n",
    "top3Crimes.show(3)"
   ]
  },
  {
   "cell_type": "markdown",
   "metadata": {},
   "source": [
    "- Which month of the year has the most number of crimes. \n",
    "- Output the month and the number of crimes."
   ]
  },
  {
   "cell_type": "code",
   "execution_count": 0,
   "metadata": {
    "application/vnd.databricks.v1+cell": {
     "cellMetadata": {
      "byteLimit": 2048000,
      "rowLimit": 10000
     },
     "inputWidgets": {},
     "nuid": "3ebca6a4-f730-4b7a-bedf-2036feb44cfd",
     "showTitle": false,
     "tableResultSettingsMap": {},
     "title": ""
    }
   },
   "outputs": [
    {
     "name": "stdout",
     "output_type": "stream",
     "text": [
      "+-----+-----+\n",
      "|Month|count|\n",
      "+-----+-----+\n",
      "| July|24889|\n",
      "+-----+-----+\n",
      "only showing top 1 row\n",
      "\n"
     ]
    }
   ],
   "source": [
    "highestCrimeVolumeByMonth = (\n",
    "    data.withColumn(\"Month\", date_format(col(\"date\"), \"MMMM\"))\n",
    "                            .groupBy(\"Month\")\n",
    "                            .count()\n",
    "                            .sort('count', ascending=False)\n",
    "                            )\n",
    "highestCrimeVolumeByMonth.show(1)"
   ]
  },
  {
   "cell_type": "markdown",
   "metadata": {},
   "source": [
    "- Filter the dataframe to create a new dataframe which only contains\n",
    "crimes where the word '**gun**' appears in the *'Description'* column. \n",
    "- What percentage of crimes involve a gun? Output all the unique ‘Description’ values which include ‘gun’."
   ]
  },
  {
   "cell_type": "code",
   "execution_count": 0,
   "metadata": {
    "application/vnd.databricks.v1+cell": {
     "cellMetadata": {
      "byteLimit": 2048000,
      "rowLimit": 10000
     },
     "inputWidgets": {},
     "nuid": "9f644433-432c-44a5-b2a0-ed6a963086a8",
     "showTitle": false,
     "tableResultSettingsMap": {},
     "title": ""
    }
   },
   "outputs": [
    {
     "name": "stdout",
     "output_type": "stream",
     "text": [
      "5.38% of crimes involve a gun\n",
      "+--------------------------------------------------+\n",
      "|Description                                       |\n",
      "+--------------------------------------------------+\n",
      "|AGGRAVATED POLICE OFFICER - HANDGUN               |\n",
      "|UNLAWFUL SALE HANDGUN                             |\n",
      "|UNLAWFUL POSS OF HANDGUN                          |\n",
      "|ATTEMPT ARMED - HANDGUN                           |\n",
      "|ARMED - HANDGUN                                   |\n",
      "|AGGRAVATED: HANDGUN                               |\n",
      "|GUN OFFENDER: DUTY TO REGISTER                    |\n",
      "|ARMED: HANDGUN                                    |\n",
      "|AGGRAVATED - HANDGUN                              |\n",
      "|UNLAWFUL USE HANDGUN                              |\n",
      "|AGGRAVATED PO: HANDGUN                            |\n",
      "|GUN OFFENDER NOTIFICATION-NO CONTACT              |\n",
      "|ATTEMPT: ARMED-HANDGUN                            |\n",
      "|GUN OFFENDER: ANNUAL REGISTRATION                 |\n",
      "|AGGRAVATED DOMESTIC BATTERY: HANDGUN              |\n",
      "|AGG PRO.EMP: HANDGUN                              |\n",
      "|GUN OFFENDER: DUTY TO REPORT CHANGE OF INFORMATION|\n",
      "|UNLAWFUL POSSESSION - HANDGUN                     |\n",
      "|ATTEMPT AGG: HANDGUN                              |\n",
      "|UNLAWFUL USE - HANDGUN                            |\n",
      "+--------------------------------------------------+\n",
      "\n"
     ]
    }
   ],
   "source": [
    "onlyCrimesWithTheWordGun = data.filter(lower(col(\"Description\")).contains(\"gun\"))\n",
    "percentageOfGunCrimes = (onlyCrimesWithTheWordGun.count() / data.count())\n",
    "print(str(round(percentageOfGunCrimes * 100, 2)) + \"% of crimes involve a gun\")\n",
    "onlyCrimesWithTheWordGun.select(\"Description\").distinct().show(truncate = False)"
   ]
  }
 ],
 "metadata": {
  "application/vnd.databricks.v1+notebook": {
   "computePreferences": null,
   "dashboards": [],
   "environmentMetadata": {
    "base_environment": "",
    "client": "1"
   },
   "language": "python",
   "notebookMetadata": {
    "pythonIndentUnit": 4
   },
   "notebookName": "Lab 4",
   "widgets": {}
  },
  "language_info": {
   "name": "python"
  }
 },
 "nbformat": 4,
 "nbformat_minor": 0
}
