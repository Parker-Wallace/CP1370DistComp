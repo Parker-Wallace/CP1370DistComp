{
 "cells": [
  {
   "cell_type": "markdown",
   "metadata": {
    "application/vnd.databricks.v1+cell": {
     "cellMetadata": {
      "byteLimit": 2048000,
      "rowLimit": 10000
     },
     "inputWidgets": {},
     "nuid": "87d19ead-7c4d-44cd-af5a-60afe1427ad8",
     "showTitle": false,
     "tableResultSettingsMap": {},
     "title": ""
    }
   },
   "source": [
    "# Lab 7  Additional Spark SQL and Dataframe techniques (Total 20 marks)\n"
   ]
  },
  {
   "cell_type": "code",
   "execution_count": 0,
   "metadata": {
    "application/vnd.databricks.v1+cell": {
     "cellMetadata": {
      "byteLimit": 2048000,
      "rowLimit": 10000
     },
     "inputWidgets": {},
     "nuid": "2db9c073-ed26-4ff9-b581-e660d85cfeec",
     "showTitle": false,
     "tableResultSettingsMap": {},
     "title": ""
    }
   },
   "outputs": [],
   "source": [
    "# Managing Imports\n",
    "from pyspark.sql.functions import collect_set, avg, round, to_date, col"
   ]
  },
  {
   "cell_type": "code",
   "execution_count": 0,
   "metadata": {
    "application/vnd.databricks.v1+cell": {
     "cellMetadata": {
      "byteLimit": 2048000,
      "rowLimit": 10000
     },
     "inputWidgets": {},
     "nuid": "9ab26dda-26d4-49e9-8915-684b1f1ca73c",
     "showTitle": false,
     "tableResultSettingsMap": {},
     "title": ""
    }
   },
   "outputs": [],
   "source": [
    "# Loading all the initial DF's\n",
    "mpgdf = spark.read.format(\"csv\").option(\"header\", \"true\").option(\"inferSchema\", \"true\").load(\"dbfs:/FileStore/mpg.csv\")\n",
    "flight_summary = spark.read.format(\"csv\").option(\"header\", \"true\").option(\"inferSchema\", \"true\").load(\"dbfs:/FileStore/flight_summary___Copy.csv\")\n",
    "airportsdf = spark.read.format(\"csv\").option(\"header\", \"true\").option(\"inferSchema\", \"true\").load(\"dbfs:/FileStore/airports.csv\")\n",
    "aapl_df = spark.read.format(\"csv\").option(\"header\", \"true\").option(\"inferSchema\", \"true\").load(\"dbfs:/FileStore/aapl_2017.csv\")"
   ]
  },
  {
   "cell_type": "markdown",
   "metadata": {
    "application/vnd.databricks.v1+cell": {
     "cellMetadata": {},
     "inputWidgets": {},
     "nuid": "2658cb07-bd8d-4f4d-82ff-69cad2e248e8",
     "showTitle": false,
     "tableResultSettingsMap": {},
     "title": ""
    }
   },
   "source": [
    "1. (5 marks) The file mpg.csv contains data about various automobiles\n",
    "Load this file into a dataframe.  Group by the manufacturer and use a collection method to add a column which shows all unique models that manufacturer has."
   ]
  },
  {
   "cell_type": "code",
   "execution_count": 0,
   "metadata": {
    "application/vnd.databricks.v1+cell": {
     "cellMetadata": {
      "byteLimit": 2048000,
      "rowLimit": 10000
     },
     "inputWidgets": {},
     "nuid": "55ce4c2a-8043-46af-8b35-2fa2b5a356cb",
     "showTitle": false,
     "tableResultSettingsMap": {},
     "title": ""
    }
   },
   "outputs": [
    {
     "output_type": "stream",
     "name": "stdout",
     "output_type": "stream",
     "text": [
      "+------------+--------------------------------------------------------------------------------------+\n|manufacturer|unique_models                                                                         |\n+------------+--------------------------------------------------------------------------------------+\n|land rover  |[range rover]                                                                         |\n|pontiac     |[grand prix]                                                                          |\n|toyota      |[4runner 4wd, camry solara, corolla, land cruiser wagon 4wd, toyota tacoma 4wd, camry]|\n|lincoln     |[navigator 2wd]                                                                       |\n|audi        |[a4, a6 quattro, a4 quattro]                                                          |\n|jeep        |[grand cherokee 4wd]                                                                  |\n|dodge       |[durango 4wd, ram 1500 pickup 4wd, dakota pickup 4wd, caravan 2wd]                    |\n|hyundai     |[sonata, tiburon]                                                                     |\n|ford        |[explorer 4wd, f150 pickup 4wd, expedition 2wd, mustang]                              |\n|chevrolet   |[k1500 tahoe 4wd, c1500 suburban 2wd, corvette, malibu]                               |\n|honda       |[civic]                                                                               |\n|volkswagen  |[jetta, passat, new beetle, gti]                                                      |\n|mercury     |[mountaineer 4wd]                                                                     |\n|nissan      |[altima, maxima, pathfinder 4wd]                                                      |\n|subaru      |[impreza awd, forester awd]                                                           |\n+------------+--------------------------------------------------------------------------------------+\n\n"
     ]
    }
   ],
   "source": [
    "\n",
    "mpgdf.groupBy(\"manufacturer\").agg(collect_set(\"model\").alias(\"unique_models\")).show(truncate=False)"
   ]
  },
  {
   "cell_type": "markdown",
   "metadata": {
    "application/vnd.databricks.v1+cell": {
     "cellMetadata": {},
     "inputWidgets": {},
     "nuid": "ec94d47b-b780-489c-91d9-666774af9772",
     "showTitle": false,
     "tableResultSettingsMap": {},
     "title": ""
    }
   },
   "source": [
    "2. (5 marks) For the dataframe loaded from the mpg.csv file, generate a dataframe which is grouped by the year and cylinder (cyl) columns.  Use the pivot method to add columns for the average city mpg(cty) for each manufacturer.  Round the average city mpg to 1 decimal place to make the output easier to read.\n"
   ]
  },
  {
   "cell_type": "code",
   "execution_count": 0,
   "metadata": {
    "application/vnd.databricks.v1+cell": {
     "cellMetadata": {
      "byteLimit": 2048000,
      "rowLimit": 10000
     },
     "inputWidgets": {},
     "nuid": "656603b9-c3f0-4c38-9f16-12143a71671d",
     "showTitle": false,
     "tableResultSettingsMap": {},
     "title": ""
    }
   },
   "outputs": [
    {
     "output_type": "stream",
     "name": "stdout",
     "output_type": "stream",
     "text": [
      "+----+---+----+---------+-----+----+-----+-------+----+----------+-------+-------+------+-------+------+------+----------+\n|year|cyl|audi|chevrolet|dodge|ford|honda|hyundai|jeep|land rover|lincoln|mercury|nissan|pontiac|subaru|toyota|volkswagen|\n+----+---+----+---------+-----+----+-----+-------+----+----------+-------+-------+------+-------+------+------+----------+\n|2008|8  |16.0|13.6     |11.9 |13.6|null |null   |11.8|12.0      |12.0   |13.0   |12.0  |16.0   |null  |13.5  |null      |\n|1999|4  |18.3|19.0     |18.0 |null|24.8 |18.5   |null|null      |null   |null   |20.0  |null   |19.0  |20.0  |23.3      |\n|1999|6  |16.2|18.0     |14.9 |15.3|null |18.0   |15.0|null      |null   |14.0   |16.5  |17.0   |null  |16.5  |16.8      |\n|2008|6  |16.8|17.5     |15.1 |15.3|null |17.3   |16.0|null      |null   |13.0   |17.8  |18.0   |null  |16.8  |17.0      |\n|2008|5  |null|null     |null |null|null |null   |null|null      |null   |null   |null  |null   |null  |null  |20.5      |\n|2008|4  |20.0|22.0     |null |null|24.0 |20.5   |null|null      |null   |null   |23.0  |null   |19.5  |22.3  |21.0      |\n|1999|8  |null|13.8     |11.0 |12.8|null |null   |14.0|11.0      |11.0   |13.0   |null  |null   |null  |11.0  |null      |\n+----+---+----+---------+-----+----+-----+-------+----+----------+-------+-------+------+-------+------+------+----------+\n\n"
     ]
    }
   ],
   "source": [
    "mpgdf.groupBy(\"year\", \"cyl\").pivot(\"manufacturer\").agg(round(avg(\"cty\"), 1).alias(\"avg_city_mpg\")).show(truncate=False)"
   ]
  },
  {
   "cell_type": "markdown",
   "metadata": {
    "application/vnd.databricks.v1+cell": {
     "cellMetadata": {},
     "inputWidgets": {},
     "nuid": "21a369c2-54d0-47c9-90ce-94cb215401be",
     "showTitle": false,
     "tableResultSettingsMap": {},
     "title": ""
    }
   },
   "source": [
    "3. (5 marks) The file flight-summary.csv contains information about flights between various locations.   The file airports.csv contains additional information about each airport, some of which is not in the flight-summary.csv file.\n",
    "\n",
    "Create a dataframe which contains the origin_code, origin_airport, latitude (for origin airport), longitude (for origin airport), dest_code, dest_airport, latitude (for destination airport), longitude (for destination airport) for every flight which originates in the state of Texas (TX).  \n",
    "\n",
    "Which type of join technique ( Shuffle or Broadcast) did Spark likely use for this exercise?  Why?"
   ]
  },
  {
   "cell_type": "code",
   "execution_count": 0,
   "metadata": {
    "application/vnd.databricks.v1+cell": {
     "cellMetadata": {
      "byteLimit": 2048000,
      "rowLimit": 10000
     },
     "inputWidgets": {},
     "nuid": "50c762bd-0ba4-48d3-9ae7-568a70be8d3b",
     "showTitle": false,
     "tableResultSettingsMap": {},
     "title": ""
    }
   },
   "outputs": [
    {
     "output_type": "stream",
     "name": "stdout",
     "output_type": "stream",
     "text": [
      "+-----------+--------------------+---------------+------------+---------+--------------------+----------------+----------+-----+\n|origin_code|      origin_airport|    origin_city|origin_state|dest_code|        dest_airport|       dest_city|dest_state|count|\n+-----------+--------------------+---------------+------------+---------+--------------------+----------------+----------+-----+\n|        BQN|Rafael Hernández ...|      Aguadilla|          PR|      MCO|Orlando Internati...|         Orlando|        FL|  441|\n|        PHL|Philadelphia Inte...|   Philadelphia|          PA|      MCO|Orlando Internati...|         Orlando|        FL| 4869|\n|        MCI|Kansas City Inter...|    Kansas City|          MO|      IAH|George Bush Inter...|         Houston|        TX| 1698|\n|        SPI|Abraham Lincoln C...|    Springfield|          IL|      ORD|Chicago O'Hare In...|         Chicago|        IL|  998|\n|        SNA|John Wayne Airpor...|      Santa Ana|          CA|      PHX|Phoenix Sky Harbo...|         Phoenix|        AZ| 3846|\n|        LBB|Lubbock Preston S...|        Lubbock|          TX|      DEN|Denver Internatio...|          Denver|        CO|  618|\n|        ORD|Chicago O'Hare In...|        Chicago|          IL|      PDX|Portland Internat...|        Portland|        OR| 2149|\n|        EWR|Newark Liberty In...|         Newark|          NJ|      STT|Cyril E. King Air...|Charlotte Amalie|        VI|  239|\n|        ATL|Hartsfield-Jackso...|        Atlanta|          GA|      GSP|Greenville-Sparta...|           Greer|        SC| 2470|\n|        MCI|Kansas City Inter...|    Kansas City|          MO|      MKE|General Mitchell ...|       Milwaukee|        WI|  612|\n|        PBI|Palm Beach Intern...|West Palm Beach|          FL|      DCA|Ronald Reagan Was...|       Arlington|        VA|  978|\n|        SMF|Sacramento Intern...|     Sacramento|          CA|      BUR|Bob Hope Airport ...|         Burbank|        CA| 2092|\n|        MDW|Chicago Midway In...|        Chicago|          IL|      MEM|Memphis Internati...|         Memphis|        TN|  628|\n|        LAS|McCarran Internat...|      Las Vegas|          NV|      LIT|Bill and Hillary ...|     Little Rock|        AR|  334|\n|        TPA|Tampa Internation...|          Tampa|          FL|      ACY|Atlantic City Int...|   Atlantic City|        NJ|  335|\n|        DSM|Des Moines Intern...|     Des Moines|          IA|      EWR|Newark Liberty In...|          Newark|        NJ|  191|\n|        FSD|Sioux Falls Regio...|    Sioux Falls|          SD|      ATL|Hartsfield-Jackso...|         Atlanta|        GA|  329|\n|        SJC|Norman Y. Mineta ...|       San Jose|          CA|      LIH|       Lihue Airport|           Lihue|        HI|  190|\n|        CLE|Cleveland Hopkins...|      Cleveland|          OH|      SJU|Luis Muñoz Marín ...|        San Juan|        PR|   43|\n|        CPR|Natrona County In...|         Casper|          WY|      DEN|Denver Internatio...|          Denver|        CO|  956|\n+-----------+--------------------+---------------+------------+---------+--------------------+----------------+----------+-----+\nonly showing top 20 rows\n\n+---------+--------------------+-------------+-----+-------+--------+----------+\n|IATA_CODE|             AIRPORT|         CITY|STATE|COUNTRY|LATITUDE| LONGITUDE|\n+---------+--------------------+-------------+-----+-------+--------+----------+\n|      ABE|Lehigh Valley Int...|    Allentown|   PA|    USA|40.65236|  -75.4404|\n|      ABI|Abilene Regional ...|      Abilene|   TX|    USA|32.41132|  -99.6819|\n|      ABQ|Albuquerque Inter...|  Albuquerque|   NM|    USA|35.04022|-106.60919|\n|      ABR|Aberdeen Regional...|     Aberdeen|   SD|    USA|45.44906| -98.42183|\n|      ABY|Southwest Georgia...|       Albany|   GA|    USA|31.53552| -84.19447|\n|      ACK|Nantucket Memoria...|    Nantucket|   MA|    USA|41.25305| -70.06018|\n|      ACT|Waco Regional Air...|         Waco|   TX|    USA|31.61129| -97.23052|\n|      ACV|      Arcata Airport|Arcata/Eureka|   CA|    USA|40.97812|-124.10862|\n|      ACY|Atlantic City Int...|Atlantic City|   NJ|    USA|39.45758| -74.57717|\n|      ADK|        Adak Airport|         Adak|   AK|    USA|51.87796|-176.64603|\n|      ADQ|      Kodiak Airport|       Kodiak|   AK|    USA|57.74997|-152.49386|\n|      AEX|Alexandria Intern...|   Alexandria|   LA|    USA|31.32737| -92.54856|\n|      AGS|Augusta Regional ...|      Augusta|   GA|    USA|33.36996|  -81.9645|\n|      AKN| King Salmon Airport|  King Salmon|   AK|    USA| 58.6768|-156.64922|\n|      ALB|Albany Internatio...|       Albany|   NY|    USA|42.74812| -73.80298|\n|      ALO|Waterloo Regional...|     Waterloo|   IA|    USA|42.55708| -92.40034|\n|      AMA|Rick Husband Amar...|     Amarillo|   TX|    USA|35.21937|-101.70593|\n|      ANC|Ted Stevens Ancho...|    Anchorage|   AK|    USA|61.17432|-149.99619|\n|      APN|Alpena County Reg...|       Alpena|   MI|    USA|45.07807| -83.56029|\n|      ASE|Aspen-Pitkin Coun...|        Aspen|   CO|    USA|39.22316|-106.86885|\n+---------+--------------------+-------------+-----+-------+--------+----------+\nonly showing top 20 rows\n\n"
     ]
    }
   ],
   "source": [
    "flight_summary.show()\n",
    "airportsdf.show()"
   ]
  },
  {
   "cell_type": "code",
   "execution_count": 0,
   "metadata": {
    "application/vnd.databricks.v1+cell": {
     "cellMetadata": {
      "byteLimit": 2048000,
      "rowLimit": 10000
     },
     "inputWidgets": {},
     "nuid": "ffc375b9-c3f2-42ad-b680-fcd69681a202",
     "showTitle": false,
     "tableResultSettingsMap": {},
     "title": ""
    }
   },
   "outputs": [
    {
     "output_type": "stream",
     "name": "stdout",
     "output_type": "stream",
     "text": [
      "+-----------+--------------------+---------------+----------------+---------+--------------------+-------------+--------------+\n|origin_code|      origin_airport|origin_latitude|origin_longitude|dest_code|        dest_airport|dest_latitude|dest_longitude|\n+-----------+--------------------+---------------+----------------+---------+--------------------+-------------+--------------+\n|        LBB|Lubbock Preston S...|       33.66364|      -101.82278|      DEN|Denver Internatio...|     39.85841|      -104.667|\n|        AUS|Austin-Bergstrom ...|       30.19453|       -97.66987|      ELP|El Paso Internati...|     31.80667|    -106.37781|\n|        HOU|William P. Hobby ...|       29.64542|       -95.27889|      PDX|Portland Internat...|     45.58872|     -122.5975|\n|        DFW|Dallas/Fort Worth...|       32.89595|        -97.0372|      PNS|Pensacola Interna...|     30.47331|     -87.18744|\n|        DFW|Dallas/Fort Worth...|       32.89595|        -97.0372|      SDF|Louisville Intern...|     38.17439|       -85.736|\n|        BPT|Jack Brooks Regio...|       29.95083|       -94.02069|      DFW|Dallas/Fort Worth...|     32.89595|      -97.0372|\n|        DFW|Dallas/Fort Worth...|       32.89595|        -97.0372|      HOU|William P. Hobby ...|     29.64542|     -95.27889|\n|        SAT|San Antonio Inter...|       29.53369|       -98.46978|      LAS|McCarran Internat...|     36.08036|    -115.15233|\n|        IAH|George Bush Inter...|       29.98047|       -95.33972|      LIT|Bill and Hillary ...|      34.7294|     -92.22425|\n|        IAH|George Bush Inter...|       29.98047|       -95.33972|      BZN|Bozeman Yellowsto...|      45.7769|    -111.15301|\n|        DFW|Dallas/Fort Worth...|       32.89595|        -97.0372|      VPS|Destin-Fort Walto...|     30.48325|      -86.5254|\n|        ELP|El Paso Internati...|       31.80667|      -106.37781|      LAS|McCarran Internat...|     36.08036|    -115.15233|\n|        DAL|   Dallas Love Field|       32.84711|       -96.85177|      ICT|Wichita Dwight D....|     37.64996|     -97.43305|\n|        LBB|Lubbock Preston S...|       33.66364|      -101.82278|      IAH|George Bush Inter...|     29.98047|     -95.33972|\n|        IAH|George Bush Inter...|       29.98047|       -95.33972|      GSP|Greenville-Sparta...|     34.89567|     -82.21886|\n|        DAL|   Dallas Love Field|       32.84711|       -96.85177|      IAH|George Bush Inter...|     29.98047|     -95.33972|\n|        IAH|George Bush Inter...|       29.98047|       -95.33972|      DEN|Denver Internatio...|     39.85841|      -104.667|\n|        CRP|Corpus Christi In...|       27.77036|       -97.50122|      IAH|George Bush Inter...|     29.98047|     -95.33972|\n|        AMA|Rick Husband Amar...|       35.21937|      -101.70593|      DAL|   Dallas Love Field|     32.84711|     -96.85177|\n|        AUS|Austin-Bergstrom ...|       30.19453|       -97.66987|      IAD|Washington Dulles...|     38.94453|     -77.45581|\n+-----------+--------------------+---------------+----------------+---------+--------------------+-------------+--------------+\nonly showing top 20 rows\n\n"
     ]
    }
   ],
   "source": [
    "from pyspark.sql.functions import broadcast\n",
    "\n",
    "joined_df = flight_summary \\\n",
    "    .join(broadcast(airportsdf).alias(\"origin\"), col(\"origin_code\") == col(\"origin.IATA_CODE\"), \"left\") \\\n",
    "    .join(broadcast(airportsdf).alias(\"dest\"), col(\"dest_code\") == col(\"dest.IATA_CODE\"), \"left\") \\\n",
    "    .filter(col(\"origin.state\") == \"TX\") \\\n",
    "    .select(\n",
    "        col(\"origin_code\"),\n",
    "        col(\"origin.airport\").alias(\"origin_airport\"),\n",
    "        col(\"origin.latitude\").alias(\"origin_latitude\"),\n",
    "        col(\"origin.longitude\").alias(\"origin_longitude\"),\n",
    "        col(\"dest_code\"),\n",
    "        col(\"dest.airport\").alias(\"dest_airport\"),\n",
    "        col(\"dest.latitude\").alias(\"dest_latitude\"),\n",
    "        col(\"dest.longitude\").alias(\"dest_longitude\")\n",
    "    )\n",
    "\n",
    "\n",
    "\n",
    "joined_df.show()"
   ]
  },
  {
   "cell_type": "markdown",
   "metadata": {
    "application/vnd.databricks.v1+cell": {
     "cellMetadata": {},
     "inputWidgets": {},
     "nuid": "b4a217d8-eb52-4539-94a8-6f178b59c319",
     "showTitle": false,
     "tableResultSettingsMap": {},
     "title": ""
    }
   },
   "source": [
    "4. (5 marks) The file aapl-2017.csv contains information about daily apple stock prices.  Calculate the weekly average price using a window function inside the groupBy transformation.  Order the result by the start time."
   ]
  },
  {
   "cell_type": "code",
   "execution_count": 0,
   "metadata": {
    "application/vnd.databricks.v1+cell": {
     "cellMetadata": {
      "byteLimit": 2048000,
      "rowLimit": 10000
     },
     "inputWidgets": {},
     "nuid": "05190080-a742-4f26-8cda-b25cb697057f",
     "showTitle": false,
     "tableResultSettingsMap": {},
     "title": ""
    }
   },
   "outputs": [
    {
     "output_type": "stream",
     "name": "stdout",
     "output_type": "stream",
     "text": [
      "+-----------+------------------+\n|week_number|weekly_avg_price  |\n+-----------+------------------+\n|1          |116.67250100000001|\n|2          |119.228           |\n|3          |119.94249925      |\n|4          |121.16399980000001|\n|5          |125.86799920000001|\n|6          |131.6799956       |\n|7          |134.97799980000002|\n|8          |136.75000025      |\n|9          |138.4899994       |\n|10         |139.1359984       |\n|11         |139.8660032       |\n|12         |140.8559996       |\n|13         |143.278           |\n|14         |143.898001        |\n|15         |141.91250225      |\n|16         |141.68399959999996|\n|17         |143.85799559999998|\n|18         |147.32800020000002|\n|19         |154.0619996       |\n|20         |153.40399779999998|\n+-----------+------------------+\nonly showing top 20 rows\n\n"
     ]
    }
   ],
   "source": [
    "from pyspark.sql.functions import col, weekofyear, avg, to_date\n",
    "\n",
    "# Convert 'date' column to DateType\n",
    "aapl_df = aapl_df.withColumn(\"date\", to_date(col(\"date\"), \"yyyy-MM-dd\"))\n",
    "\n",
    "# Group by the week number and calculate the average price\n",
    "aapl_df.groupBy(weekofyear(col(\"date\")).alias(\"week_number\")).agg(avg(col(\"close\")).alias(\"weekly_avg_price\")).orderBy(\"week_number\").show(truncate=False)\n"
   ]
  }
 ],
 "metadata": {
  "application/vnd.databricks.v1+notebook": {
   "computePreferences": null,
   "dashboards": [],
   "environmentMetadata": {
    "base_environment": "",
    "client": "1"
   },
   "language": "python",
   "notebookMetadata": {
    "pythonIndentUnit": 4
   },
   "notebookName": "lab7",
   "widgets": {}
  }
 },
 "nbformat": 4,
 "nbformat_minor": 0
}
