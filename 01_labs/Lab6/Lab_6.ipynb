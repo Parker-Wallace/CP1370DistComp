{
 "cells": [
  {
   "cell_type": "code",
   "execution_count": 0,
   "metadata": {
    "application/vnd.databricks.v1+cell": {
     "cellMetadata": {
      "byteLimit": 2048000,
      "rowLimit": 10000
     },
     "inputWidgets": {},
     "nuid": "cc550eec-9e95-45be-a5e9-da9d49cdc534",
     "showTitle": false,
     "tableResultSettingsMap": {},
     "title": ""
    }
   },
   "outputs": [],
   "source": [
    "from pyspark.sql.functions import count_distinct, approx_count_distinct, skewness, avg, stddev_samp, sum"
   ]
  },
  {
   "cell_type": "markdown",
   "metadata": {
    "application/vnd.databricks.v1+cell": {
     "cellMetadata": {
      "byteLimit": 2048000,
      "rowLimit": 10000
     },
     "inputWidgets": {},
     "nuid": "7875d7d6-049d-4273-a9aa-1e4cc96982d0",
     "showTitle": false,
     "tableResultSettingsMap": {},
     "title": ""
    }
   },
   "source": [
    "# Lab #6 spark dataframes and spark sql\n",
    "> Due Monday Feb 23rd\n",
    "(We will be using Databricks community edition for this lab)\n",
    "\n",
    "Export as an IPython notebook and submit to the dropbox\n",
    "\n",
    "1. Load the flight-summary.csv into a dataframe: ( be sure to use the correct path )\n"
   ]
  },
  {
   "cell_type": "code",
   "execution_count": 0,
   "metadata": {
    "application/vnd.databricks.v1+cell": {
     "cellMetadata": {
      "byteLimit": 2048000,
      "rowLimit": 10000
     },
     "inputWidgets": {},
     "nuid": "6c836b3f-61f3-477f-a1ae-654e9e10e964",
     "showTitle": false,
     "tableResultSettingsMap": {},
     "title": ""
    }
   },
   "outputs": [],
   "source": [
    "flight_summary = spark.read \\\n",
    ".format(\"csv\") \\\n",
    ".option(\"header\", \"true\") \\\n",
    ".option(\"inferSchema\", \"true\") \\\n",
    ".load(\"dbfs:/FileStore/tables/flight_summary.csv\")"
   ]
  },
  {
   "cell_type": "markdown",
   "metadata": {
    "application/vnd.databricks.v1+cell": {
     "cellMetadata": {},
     "inputWidgets": {},
     "nuid": "494c0a32-d8e6-4919-8843-7afd09a89cab",
     "showTitle": false,
     "tableResultSettingsMap": {},
     "title": ""
    }
   },
   "source": [
    "This data represents the number of flights taking place from origin airports to destination airports."
   ]
  },
  {
   "cell_type": "markdown",
   "metadata": {
    "application/vnd.databricks.v1+cell": {
     "cellMetadata": {},
     "inputWidgets": {},
     "nuid": "cb1e46f6-066e-4f11-9f39-44c00a192c67",
     "showTitle": false,
     "tableResultSettingsMap": {},
     "title": ""
    }
   },
   "source": [
    "2. Write a query which determines how many unique origin airports are contained in the\n",
    "data. ( 3 marks)"
   ]
  },
  {
   "cell_type": "code",
   "execution_count": 0,
   "metadata": {
    "application/vnd.databricks.v1+cell": {
     "cellMetadata": {
      "byteLimit": 2048000,
      "rowLimit": 10000
     },
     "inputWidgets": {},
     "nuid": "e0684249-f7ce-41a4-a04e-2cd3376c717c",
     "showTitle": false,
     "tableResultSettingsMap": {},
     "title": ""
    }
   },
   "outputs": [
    {
     "output_type": "stream",
     "name": "stdout",
     "output_type": "stream",
     "text": [
      "+-----------+--------------------+---------------+------------+---------+--------------------+----------------+----------+-----+\n|origin_code|      origin_airport|    origin_city|origin_state|dest_code|        dest_airport|       dest_city|dest_state|count|\n+-----------+--------------------+---------------+------------+---------+--------------------+----------------+----------+-----+\n|        BQN|Rafael Hernández ...|      Aguadilla|          PR|      MCO|Orlando Internati...|         Orlando|        FL|  441|\n|        PHL|Philadelphia Inte...|   Philadelphia|          PA|      MCO|Orlando Internati...|         Orlando|        FL| 4869|\n|        MCI|Kansas City Inter...|    Kansas City|          MO|      IAH|George Bush Inter...|         Houston|        TX| 1698|\n|        SPI|Abraham Lincoln C...|    Springfield|          IL|      ORD|Chicago O'Hare In...|         Chicago|        IL|  998|\n|        SNA|John Wayne Airpor...|      Santa Ana|          CA|      PHX|Phoenix Sky Harbo...|         Phoenix|        AZ| 3846|\n|        LBB|Lubbock Preston S...|        Lubbock|          TX|      DEN|Denver Internatio...|          Denver|        CO|  618|\n|        ORD|Chicago O'Hare In...|        Chicago|          IL|      PDX|Portland Internat...|        Portland|        OR| 2149|\n|        EWR|Newark Liberty In...|         Newark|          NJ|      STT|Cyril E. King Air...|Charlotte Amalie|        VI|  239|\n|        ATL|Hartsfield-Jackso...|        Atlanta|          GA|      GSP|Greenville-Sparta...|           Greer|        SC| 2470|\n|        MCI|Kansas City Inter...|    Kansas City|          MO|      MKE|General Mitchell ...|       Milwaukee|        WI|  612|\n|        PBI|Palm Beach Intern...|West Palm Beach|          FL|      DCA|Ronald Reagan Was...|       Arlington|        VA|  978|\n|        SMF|Sacramento Intern...|     Sacramento|          CA|      BUR|Bob Hope Airport ...|         Burbank|        CA| 2092|\n|        MDW|Chicago Midway In...|        Chicago|          IL|      MEM|Memphis Internati...|         Memphis|        TN|  628|\n|        LAS|McCarran Internat...|      Las Vegas|          NV|      LIT|Bill and Hillary ...|     Little Rock|        AR|  334|\n|        TPA|Tampa Internation...|          Tampa|          FL|      ACY|Atlantic City Int...|   Atlantic City|        NJ|  335|\n|        DSM|Des Moines Intern...|     Des Moines|          IA|      EWR|Newark Liberty In...|          Newark|        NJ|  191|\n|        FSD|Sioux Falls Regio...|    Sioux Falls|          SD|      ATL|Hartsfield-Jackso...|         Atlanta|        GA|  329|\n|        SJC|Norman Y. Mineta ...|       San Jose|          CA|      LIH|       Lihue Airport|           Lihue|        HI|  190|\n|        CLE|Cleveland Hopkins...|      Cleveland|          OH|      SJU|Luis Muñoz Marín ...|        San Juan|        PR|   43|\n|        CPR|Natrona County In...|         Casper|          WY|      DEN|Denver Internatio...|          Denver|        CO|  956|\n+-----------+--------------------+---------------+------------+---------+--------------------+----------------+----------+-----+\nonly showing top 20 rows\n\n"
     ]
    }
   ],
   "source": [
    "flight_summary.show()"
   ]
  },
  {
   "cell_type": "code",
   "execution_count": 0,
   "metadata": {
    "application/vnd.databricks.v1+cell": {
     "cellMetadata": {
      "byteLimit": 2048000,
      "rowLimit": 10000
     },
     "inputWidgets": {},
     "nuid": "5e65171e-8b95-404c-9000-f904b1d1380e",
     "showTitle": false,
     "tableResultSettingsMap": {},
     "title": ""
    }
   },
   "outputs": [
    {
     "output_type": "stream",
     "name": "stdout",
     "output_type": "stream",
     "text": [
      "+------------------------------+\n|count(DISTINCT origin_airport)|\n+------------------------------+\n|                           322|\n+------------------------------+\n\n"
     ]
    }
   ],
   "source": [
    "flight_summary.select(count_distinct(\"origin_airport\")).show()"
   ]
  },
  {
   "cell_type": "markdown",
   "metadata": {
    "application/vnd.databricks.v1+cell": {
     "cellMetadata": {},
     "inputWidgets": {},
     "nuid": "10fb41a6-f648-4c3c-aea3-a681f5c0dc86",
     "showTitle": false,
     "tableResultSettingsMap": {},
     "title": ""
    }
   },
   "source": [
    "3. Modify query #2 to use the approx._count_distinct function with a margin of error of of 10%. (3 marks) Why does this function exists as it is not completely accurate? ( 2 marks)"
   ]
  },
  {
   "cell_type": "code",
   "execution_count": 0,
   "metadata": {
    "application/vnd.databricks.v1+cell": {
     "cellMetadata": {
      "byteLimit": 2048000,
      "rowLimit": 10000
     },
     "inputWidgets": {},
     "nuid": "d2713612-7ab1-4128-8f91-59fee31cf7b7",
     "showTitle": false,
     "tableResultSettingsMap": {},
     "title": ""
    }
   },
   "outputs": [
    {
     "output_type": "stream",
     "name": "stdout",
     "output_type": "stream",
     "text": [
      "+-------------------------------------+\n|approx_count_distinct(origin_airport)|\n+-------------------------------------+\n|                                  346|\n+-------------------------------------+\n\n"
     ]
    }
   ],
   "source": [
    "flight_summary.select(approx_count_distinct(\"origin_airport\", 0.1)).show()"
   ]
  },
  {
   "cell_type": "markdown",
   "metadata": {
    "application/vnd.databricks.v1+cell": {
     "cellMetadata": {},
     "inputWidgets": {},
     "nuid": "f715288a-918a-4db7-bf51-935e6711514b",
     "showTitle": false,
     "tableResultSettingsMap": {},
     "title": ""
    }
   },
   "source": [
    "this function exists to get results with an accuracy based on acceptable deviation to act faster and consume a lot less memory. which is useful for very large datasets and in instances where cost is a factor"
   ]
  },
  {
   "cell_type": "markdown",
   "metadata": {
    "application/vnd.databricks.v1+cell": {
     "cellMetadata": {},
     "inputWidgets": {},
     "nuid": "c4e0eb40-c698-4e7c-819c-45c79d844b3a",
     "showTitle": false,
     "tableResultSettingsMap": {},
     "title": ""
    }
   },
   "source": [
    "4. What does the function skewness determine? (2 marks) Write a query which outputs the skewness of the “count” column. (3 marks) What does the result indicate? ( 2 marks )"
   ]
  },
  {
   "cell_type": "markdown",
   "metadata": {
    "application/vnd.databricks.v1+cell": {
     "cellMetadata": {},
     "inputWidgets": {},
     "nuid": "95b53dc4-0865-4967-be7e-06aeb72ac572",
     "showTitle": false,
     "tableResultSettingsMap": {},
     "title": ""
    }
   },
   "source": [
    "The skewness function measures the asymmetry or lack of symmetry in the distribution of a dataset.\n",
    "\n",
    "A positive skewness indicates that the data's tail is skewed towards the right, meaning the right tail is longer or fatter than the left.\n",
    "A negative skewness indicates that the tail is skewed towards the left.\n",
    "A skewness close to 0 indicates that the data distribution is symmetrical."
   ]
  },
  {
   "cell_type": "code",
   "execution_count": 0,
   "metadata": {
    "application/vnd.databricks.v1+cell": {
     "cellMetadata": {
      "byteLimit": 2048000,
      "rowLimit": 10000
     },
     "inputWidgets": {},
     "nuid": "598695f4-fb29-4e08-8e0f-8c1b860ed78e",
     "showTitle": false,
     "tableResultSettingsMap": {},
     "title": ""
    }
   },
   "outputs": [
    {
     "output_type": "stream",
     "name": "stdout",
     "output_type": "stream",
     "text": [
      "+-----------------+\n|  skewness(count)|\n+-----------------+\n|2.682183800064101|\n+-----------------+\n\n"
     ]
    }
   ],
   "source": [
    "flight_summary.select(skewness(\"count\")).show()"
   ]
  },
  {
   "cell_type": "markdown",
   "metadata": {
    "application/vnd.databricks.v1+cell": {
     "cellMetadata": {},
     "inputWidgets": {},
     "nuid": "bb7ec75a-b069-4653-a16e-fb02106f5aa8",
     "showTitle": false,
     "tableResultSettingsMap": {},
     "title": ""
    }
   },
   "source": [
    "the skewness of the count function indicated that the right tail is longer (or fatter) than the left.\n",
    "this indicated that there are fewer aiports with a *much* higher count than the larger number of airports with an average to low count"
   ]
  },
  {
   "cell_type": "markdown",
   "metadata": {
    "application/vnd.databricks.v1+cell": {
     "cellMetadata": {},
     "inputWidgets": {},
     "nuid": "7c7d5bb1-c432-45e4-baa1-a67d552ba79b",
     "showTitle": false,
     "tableResultSettingsMap": {},
     "title": ""
    }
   },
   "source": [
    "5. Write a query which outputs the top 5 most popular destination cities. You will need to group the data by destination state and destination city. ( 5 marks )"
   ]
  },
  {
   "cell_type": "code",
   "execution_count": 0,
   "metadata": {
    "application/vnd.databricks.v1+cell": {
     "cellMetadata": {
      "byteLimit": 2048000,
      "rowLimit": 10000
     },
     "inputWidgets": {},
     "nuid": "2638b1a3-386f-4244-b46b-c6166a4c7379",
     "showTitle": false,
     "tableResultSettingsMap": {},
     "title": ""
    }
   },
   "outputs": [
    {
     "output_type": "stream",
     "name": "stdout",
     "output_type": "stream",
     "text": [
      "+------+----------+-----------------+\n| count|dest_state|        dest_city|\n+------+----------+-----------------+\n|366790|        IL|          Chicago|\n|346904|        GA|          Atlanta|\n|239582|        TX|Dallas-Fort Worth|\n|198724|        TX|          Houston|\n|196010|        CO|           Denver|\n+------+----------+-----------------+\n\n"
     ]
    }
   ],
   "source": [
    "flight_summary.createOrReplaceTempView(\"flight_summary\")\n",
    "spark.sql(\"Select sum(Count) as count, dest_state, dest_city from flight_summary group by dest_state, dest_city order by count desc limit 5\").show()"
   ]
  },
  {
   "cell_type": "markdown",
   "metadata": {
    "application/vnd.databricks.v1+cell": {
     "cellMetadata": {},
     "inputWidgets": {},
     "nuid": "09128eb1-5a50-4560-9d68-7b68d47d15d8",
     "showTitle": false,
     "tableResultSettingsMap": {},
     "title": ""
    }
   },
   "source": [
    "6. Write a query which groups the data by each origin airport and outputs the sum, average and standard deviation of the count column. Use the “.agg” function ( 5 marks )"
   ]
  },
  {
   "cell_type": "code",
   "execution_count": 0,
   "metadata": {
    "application/vnd.databricks.v1+cell": {
     "cellMetadata": {
      "byteLimit": 2048000,
      "rowLimit": 10000
     },
     "inputWidgets": {},
     "nuid": "39798134-3a94-4184-b347-313d83cf08ec",
     "showTitle": false,
     "tableResultSettingsMap": {},
     "title": ""
    }
   },
   "outputs": [
    {
     "output_type": "stream",
     "name": "stdout",
     "output_type": "stream",
     "text": [
      "+--------------------+----------+------------------+------------------+\n|      origin_airport|sum(count)|        avg(count)|stddev_samp(count)|\n+--------------------+----------+------------------+------------------+\n|Melbourne Interna...|      1332|            1332.0|              null|\n|San Diego Interna...|     70207|1526.2391304347825| 1575.804150052814|\n|     Eppley Airfield|     16753| 797.7619047619048| 688.7479876385778|\n|     Kahului Airport|     20627|1145.9444444444443|1899.6718438664834|\n|Austin-Bergstrom ...|     42067|1026.0243902439024|1100.5043954434002|\n|Port Columbus Int...|     24187| 863.8214285714286| 823.0782804934813|\n|Waco Regional Air...|      1612|            1612.0|              null|\n|Sacramento Intern...|     37212|1378.2222222222222|1327.6026204963282|\n|Brownsville/South...|      2362|            1181.0| 172.5340546095176|\n|       Meadows Field|      2637|            659.25| 160.1527916293271|\n|Erie Internationa...|       746|             373.0| 374.7665940288702|\n|Destin-Fort Walto...|      4868|1622.6666666666667| 664.0800654539581|\n|Falls Internation...|       574|191.33333333333334| 169.5120448031152|\n|Worcester Regiona...|       663|             331.5|0.7071067811865476|\n|Fort Wayne Intern...|      5261|            1052.2| 750.4989673543862|\n|Santa Maria Publi...|       664|             332.0|117.37972567696688|\n|Great Falls Inter...|      1966| 655.3333333333334|308.61356634686905|\n|Charlotte Douglas...|    100324|1453.9710144927535|1389.1919887115773|\n|Atlantic City Int...|      3572|             357.2| 260.5156425245901|\n|Kona Internationa...|     11114| 926.1666666666666|1751.9021264345965|\n+--------------------+----------+------------------+------------------+\nonly showing top 20 rows\n\n"
     ]
    }
   ],
   "source": [
    "flight_summary.groupBy(\"origin_airport\").agg(sum(\"count\"), avg(\"count\"), stddev_samp(\"count\")).show()"
   ]
  }
 ],
 "metadata": {
  "application/vnd.databricks.v1+notebook": {
   "computePreferences": null,
   "dashboards": [],
   "environmentMetadata": {
    "base_environment": "",
    "client": "1"
   },
   "language": "python",
   "notebookMetadata": {
    "pythonIndentUnit": 4
   },
   "notebookName": "Lab6",
   "widgets": {}
  }
 },
 "nbformat": 4,
 "nbformat_minor": 0
}
