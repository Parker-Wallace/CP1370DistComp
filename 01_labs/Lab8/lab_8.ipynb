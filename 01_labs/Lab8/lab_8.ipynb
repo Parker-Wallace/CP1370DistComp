{
 "cells": [
  {
   "cell_type": "markdown",
   "metadata": {
    "application/vnd.databricks.v1+cell": {
     "cellMetadata": {
      "byteLimit": 2048000,
      "rowLimit": 10000
     },
     "inputWidgets": {},
     "nuid": "6fb834a8-7868-4088-a719-2b7a8e0868f5",
     "showTitle": false,
     "tableResultSettingsMap": {},
     "title": ""
    }
   },
   "source": [
    "# Lab 8: Cube, Rollup, Sliding Window grouping and Window functions"
   ]
  },
  {
   "cell_type": "code",
   "execution_count": 0,
   "metadata": {
    "application/vnd.databricks.v1+cell": {
     "cellMetadata": {
      "byteLimit": 2048000,
      "rowLimit": 10000
     },
     "inputWidgets": {},
     "nuid": "c42c0115-1880-4252-ba01-7d4e77154ccd",
     "showTitle": false,
     "tableResultSettingsMap": {},
     "title": ""
    }
   },
   "outputs": [],
   "source": [
    "from pyspark.sql.functions import col, avg, to_date, round, window, desc, rank, max, sum\n",
    "from pyspark.sql.types import StructField, StructType, StringType, DoubleType\n",
    "from pyspark.sql.window import Window"
   ]
  },
  {
   "cell_type": "code",
   "execution_count": 0,
   "metadata": {
    "application/vnd.databricks.v1+cell": {
     "cellMetadata": {
      "byteLimit": 2048000,
      "rowLimit": 10000
     },
     "inputWidgets": {},
     "nuid": "6061b2da-545f-4326-8ce1-921a7561e713",
     "showTitle": false,
     "tableResultSettingsMap": {},
     "title": ""
    }
   },
   "outputs": [],
   "source": [
    "mpgdf = spark.read.format(\"csv\").option(\"header\", \"true\").option(\"inferSchema\", \"true\").load(\"dbfs:/FileStore/mpg.csv\")\n",
    "aapl_df = spark.read.format(\"csv\").option(\"header\", \"true\").option(\"inferSchema\", \"true\").load(\"dbfs:/FileStore/aapl_2017.csv\").withColumn(\"date\", to_date(col(\"date\"), \"yyyy-MM-dd\"))"
   ]
  },
  {
   "cell_type": "markdown",
   "metadata": {
    "application/vnd.databricks.v1+cell": {
     "cellMetadata": {
      "byteLimit": 2048000,
      "rowLimit": 10000
     },
     "inputWidgets": {},
     "nuid": "282879eb-e75b-4dd2-8c13-7223907b9a7b",
     "showTitle": false,
     "tableResultSettingsMap": {},
     "title": ""
    }
   },
   "source": [
    "(5 marks) The file mpg.csv contains data about various automobiles. Load this file into a dataframe and perform the following:\n",
    "- Filter the dataframe to only include 'ford' and 'dodge' vehicles\n",
    "- Perform a Rollup on the manufacturer and number of cylinders columns, which displays the total vehicles from that manufacturer with the given number of cylinders. Be sure to order the rows so the null values are contained last.\n",
    "- Perform the same steps using the Cube function instead of Rollup"
   ]
  },
  {
   "cell_type": "code",
   "execution_count": 0,
   "metadata": {
    "application/vnd.databricks.v1+cell": {
     "cellMetadata": {
      "byteLimit": 2048000,
      "rowLimit": 10000
     },
     "inputWidgets": {},
     "nuid": "85722f7c-983a-4adb-87fa-482a8484243b",
     "showTitle": false,
     "tableResultSettingsMap": {},
     "title": ""
    }
   },
   "outputs": [
    {
     "output_type": "stream",
     "name": "stdout",
     "output_type": "stream",
     "text": [
      "+---+------------+-----------------+-----+----+---+----------+---+---+---+---+-------+\n|_c0|manufacturer|            model|displ|year|cyl|     trans|drv|cty|hwy| fl|  class|\n+---+------------+-----------------+-----+----+---+----------+---+---+---+---+-------+\n| 38|       dodge|      caravan 2wd|  2.4|1999|  4|  auto(l3)|  f| 18| 24|  r|minivan|\n| 39|       dodge|      caravan 2wd|  3.0|1999|  6|  auto(l4)|  f| 17| 24|  r|minivan|\n| 40|       dodge|      caravan 2wd|  3.3|1999|  6|  auto(l4)|  f| 16| 22|  r|minivan|\n| 41|       dodge|      caravan 2wd|  3.3|1999|  6|  auto(l4)|  f| 16| 22|  r|minivan|\n| 42|       dodge|      caravan 2wd|  3.3|2008|  6|  auto(l4)|  f| 17| 24|  r|minivan|\n| 43|       dodge|      caravan 2wd|  3.3|2008|  6|  auto(l4)|  f| 17| 24|  r|minivan|\n| 44|       dodge|      caravan 2wd|  3.3|2008|  6|  auto(l4)|  f| 11| 17|  e|minivan|\n| 45|       dodge|      caravan 2wd|  3.8|1999|  6|  auto(l4)|  f| 15| 22|  r|minivan|\n| 46|       dodge|      caravan 2wd|  3.8|1999|  6|  auto(l4)|  f| 15| 21|  r|minivan|\n| 47|       dodge|      caravan 2wd|  3.8|2008|  6|  auto(l6)|  f| 16| 23|  r|minivan|\n| 48|       dodge|      caravan 2wd|  4.0|2008|  6|  auto(l6)|  f| 16| 23|  r|minivan|\n| 49|       dodge|dakota pickup 4wd|  3.7|2008|  6|manual(m6)|  4| 15| 19|  r| pickup|\n| 50|       dodge|dakota pickup 4wd|  3.7|2008|  6|  auto(l4)|  4| 14| 18|  r| pickup|\n| 51|       dodge|dakota pickup 4wd|  3.9|1999|  6|  auto(l4)|  4| 13| 17|  r| pickup|\n| 52|       dodge|dakota pickup 4wd|  3.9|1999|  6|manual(m5)|  4| 14| 17|  r| pickup|\n| 53|       dodge|dakota pickup 4wd|  4.7|2008|  8|  auto(l5)|  4| 14| 19|  r| pickup|\n| 54|       dodge|dakota pickup 4wd|  4.7|2008|  8|  auto(l5)|  4| 14| 19|  r| pickup|\n| 55|       dodge|dakota pickup 4wd|  4.7|2008|  8|  auto(l5)|  4|  9| 12|  e| pickup|\n| 56|       dodge|dakota pickup 4wd|  5.2|1999|  8|manual(m5)|  4| 11| 17|  r| pickup|\n| 57|       dodge|dakota pickup 4wd|  5.2|1999|  8|  auto(l4)|  4| 11| 15|  r| pickup|\n+---+------------+-----------------+-----+----+---+----------+---+---+---+---+-------+\nonly showing top 20 rows\n\n"
     ]
    }
   ],
   "source": [
    "mpgdf = mpgdf.filter((mpgdf.manufacturer == 'ford') | (mpgdf.manufacturer == 'dodge')) # Filter by Ford and Dodge\n",
    "mpgdf.show()"
   ]
  },
  {
   "cell_type": "code",
   "execution_count": 0,
   "metadata": {
    "application/vnd.databricks.v1+cell": {
     "cellMetadata": {
      "byteLimit": 2048000,
      "rowLimit": 10000
     },
     "inputWidgets": {},
     "nuid": "9c897b3a-4b1f-4840-9b38-38d276312978",
     "showTitle": false,
     "tableResultSettingsMap": {},
     "title": ""
    }
   },
   "outputs": [
    {
     "output_type": "stream",
     "name": "stdout",
     "output_type": "stream",
     "text": [
      "+------------+----+-----+\n|manufacturer| cyl|count|\n+------------+----+-----+\n|       dodge|   8|   21|\n|        ford|   8|   15|\n|        ford|   6|   10|\n|       dodge|   6|   15|\n|       dodge|   4|    1|\n|       dodge|null|   37|\n|        null|null|   62|\n|        ford|null|   25|\n+------------+----+-----+\n\n"
     ]
    }
   ],
   "source": [
    "mpgdfRolledUp = mpgdf.rollup(mpgdf.manufacturer, mpgdf.cyl).count().orderBy('cyl', ascending=False).show()"
   ]
  },
  {
   "cell_type": "code",
   "execution_count": 0,
   "metadata": {
    "application/vnd.databricks.v1+cell": {
     "cellMetadata": {
      "byteLimit": 2048000,
      "rowLimit": 10000
     },
     "inputWidgets": {},
     "nuid": "3d7aa813-c60c-46c5-b3c5-d4b1e9038a79",
     "showTitle": false,
     "tableResultSettingsMap": {},
     "title": ""
    }
   },
   "outputs": [
    {
     "output_type": "stream",
     "name": "stdout",
     "output_type": "stream",
     "text": [
      "+------------+----+-----+\n|manufacturer| cyl|count|\n+------------+----+-----+\n|        ford|   8|   15|\n|       dodge|   8|   21|\n|        null|   8|   36|\n|        ford|   6|   10|\n|       dodge|   6|   15|\n|        null|   6|   25|\n|       dodge|   4|    1|\n|        null|   4|    1|\n|        ford|null|   25|\n|       dodge|null|   37|\n|        null|null|   62|\n+------------+----+-----+\n\n"
     ]
    }
   ],
   "source": [
    "mpgdfCubed = mpgdf.cube(mpgdf.manufacturer, mpgdf.cyl).count().orderBy('cyl', 'manufacturer', ascending=False).show()"
   ]
  },
  {
   "cell_type": "markdown",
   "metadata": {
    "application/vnd.databricks.v1+cell": {
     "cellMetadata": {
      "byteLimit": 2048000,
      "rowLimit": 10000
     },
     "inputWidgets": {},
     "nuid": "77a44ff6-ec1a-4872-b4a3-3a7b4036c49a",
     "showTitle": false,
     "tableResultSettingsMap": {},
     "title": ""
    }
   },
   "source": [
    "(5 marks) #The file aapl-2017.csv contains information about daily apple stock prices. - Load this file into a dataframe and perform the following:\n",
    "- Calculate the monthy average closing price using a window function inside the groupBy transformation. \n",
    "- For the window function, use a sliding window which slides by 1 week at a time. \n",
    "- Be sure to order the results in ascending order by the start date of the window\n",
    "- Output the start time, end time for the window as well as the monthly average"
   ]
  },
  {
   "cell_type": "code",
   "execution_count": 0,
   "metadata": {
    "application/vnd.databricks.v1+cell": {
     "cellMetadata": {
      "byteLimit": 2048000,
      "rowLimit": 10000
     },
     "inputWidgets": {},
     "nuid": "e5deb294-9d5f-469f-9c8b-52aed2227778",
     "showTitle": false,
     "tableResultSettingsMap": {},
     "title": ""
    }
   },
   "outputs": [
    {
     "output_type": "stream",
     "name": "stdout",
     "output_type": "stream",
     "text": [
      "+------------------------------------------+-----------+\n|window                                    |monthly avg|\n+------------------------------------------+-----------+\n|{2016-12-08 00:00:00, 2017-01-05 00:00:00}|116.08     |\n|{2016-12-15 00:00:00, 2017-01-12 00:00:00}|117.79     |\n|{2016-12-22 00:00:00, 2017-01-19 00:00:00}|118.44     |\n|{2016-12-29 00:00:00, 2017-01-26 00:00:00}|119.03     |\n|{2017-01-05 00:00:00, 2017-02-02 00:00:00}|120.42     |\n|{2017-01-12 00:00:00, 2017-02-09 00:00:00}|123.53     |\n|{2017-01-19 00:00:00, 2017-02-16 00:00:00}|126.86     |\n|{2017-01-26 00:00:00, 2017-02-23 00:00:00}|130.54     |\n|{2017-02-02 00:00:00, 2017-03-02 00:00:00}|134.3      |\n|{2017-02-09 00:00:00, 2017-03-09 00:00:00}|136.67     |\n|{2017-02-16 00:00:00, 2017-03-16 00:00:00}|138.15     |\n|{2017-02-23 00:00:00, 2017-03-23 00:00:00}|139.17     |\n|{2017-03-02 00:00:00, 2017-03-30 00:00:00}|140.34     |\n|{2017-03-09 00:00:00, 2017-04-06 00:00:00}|141.52     |\n|{2017-03-16 00:00:00, 2017-04-13 00:00:00}|142.37     |\n|{2017-03-23 00:00:00, 2017-04-20 00:00:00}|142.57     |\n|{2017-03-30 00:00:00, 2017-04-27 00:00:00}|142.89     |\n|{2017-04-06 00:00:00, 2017-05-04 00:00:00}|143.34     |\n|{2017-04-13 00:00:00, 2017-05-11 00:00:00}|145.56     |\n|{2017-04-20 00:00:00, 2017-05-18 00:00:00}|148.62     |\n+------------------------------------------+-----------+\nonly showing top 20 rows\n\n"
     ]
    }
   ],
   "source": [
    "aapl_df.groupBy(window(col(\"date\"), \"4 week\", \"1 week\")) \\\n",
    "    .agg(round(avg(col(\"close\")), 2).alias(\"monthly avg\")) \\\n",
    "    .orderBy(col(\"window.start\")) \\\n",
    "    .show(truncate=False)"
   ]
  },
  {
   "cell_type": "code",
   "execution_count": 0,
   "metadata": {
    "application/vnd.databricks.v1+cell": {
     "cellMetadata": {
      "byteLimit": 2048000,
      "rowLimit": 10000
     },
     "inputWidgets": {},
     "nuid": "59b8e464-3ca2-4880-aef6-374dd345e8d2",
     "showTitle": false,
     "tableResultSettingsMap": {},
     "title": ""
    }
   },
   "outputs": [],
   "source": [
    "data = [\n",
    "(\"2025-01-01\", \"Eric's Bikes\",  \"Norco Storm\",          4500.75),\n",
    "(\"2025-01-01\", \"Eric's Bikes\",  \"Cannondale Optimo\",    5200.50),\n",
    "(\"2025-01-01\", \"CNA Bikes\",     \"Specialized S-Works\",  4800.25),\n",
    "(\"2025-01-01\", \"CNA Bikes\",     \"Trek Madone\",          4600.10),\n",
    "(\"2025-01-01\", \"Canary Cycles\", \"Norco Storm\",          5100.95),\n",
    "(\"2025-01-01\", \"Canary Cycles\", \"Cannondale Optimo\",    4750.60),\n",
    "(\"2025-01-02\", \"Eric's Bikes\",  \"Norco Storm\",          4450.00),\n",
    "(\"2025-01-02\", \"Eric's Bikes\",  \"Specialized S-Works\",  5350.30),\n",
    "(\"2025-01-02\", \"CNA Bikes\",     \"Trek Madone\",          4300.75),\n",
    "(\"2025-01-02\", \"CNA Bikes\",     \"Cannondale Optimo\",    4900.20),\n",
    "(\"2025-01-02\", \"Canary Cycles\", \"Norco Storm\",          5500.00),\n",
    "(\"2025-01-02\", \"Canary Cycles\", \"Specialized S-Works\",  5600.40),\n",
    "(\"2025-01-03\", \"Eric's Bikes\",  \"Cannondale Optimo\",    5100.30),\n",
    "(\"2025-01-03\", \"Eric's Bikes\",  \"Trek Madone\",          4500.90),\n",
    "(\"2025-01-03\", \"CNA Bikes\",     \"Norco Storm\",          5200.75),\n",
    "(\"2025-01-03\", \"CNA Bikes\",     \"Specialized S-Works\",  5450.80),\n",
    "(\"2025-01-03\", \"Canary Cycles\", \"Norco Storm\",          5700.40),\n",
    "(\"2025-01-03\", \"Canary Cycles\", \"Trek Madone\",          4600.50),\n",
    "(\"2025-01-04\", \"Eric's Bikes\",  \"Norco Storm\",          4800.60),\n",
    "(\"2025-01-04\", \"Eric's Bikes\",  \"Specialized S-Works\",  5000.80),\n",
    "(\"2025-01-04\", \"CNA Bikes\",     \"Trek Madone\",          4800.25),\n",
    "(\"2025-01-04\", \"CNA Bikes\",     \"Cannondale Optimo\",    4700.10),\n",
    "(\"2025-01-04\", \"Canary Cycles\", \"Norco Storm\",          5400.85),\n",
    "(\"2025-01-04\", \"Canary Cycles\", \"Specialized S-Works\",  5100.60),\n",
    "(\"2025-01-05\", \"Eric's Bikes\",  \"Cannondale Optimo\",    5300.40),\n",
    "(\"2025-01-05\", \"Eric's Bikes\",  \"Trek Madone\",          4500.35),\n",
    "(\"2025-01-05\", \"CNA Bikes\",     \"Norco Storm\",          4700.50),\n",
    "(\"2025-01-05\", \"CNA Bikes\",     \"Specialized S-Works\",  5200.00),\n",
    "(\"2025-01-05\", \"Canary Cycles\", \"Norco Storm\",          5500.90),\n",
    "(\"2025-01-05\", \"Canary Cycles\", \"Cannondale Optimo\",    4950.10)\n",
    "]\n",
    "# Define schema\n",
    "schema = StructType([\n",
    "StructField(\"date\", StringType(), True),\n",
    "StructField(\"store\", StringType(), True),\n",
    "StructField(\"product\", StringType(), True),\n",
    "StructField(\"sales_amount\", DoubleType(), True)\n",
    "])\n",
    "# Create DataFrame\n",
    "df = spark.createDataFrame(data, schema)"
   ]
  },
  {
   "cell_type": "code",
   "execution_count": 0,
   "metadata": {
    "application/vnd.databricks.v1+cell": {
     "cellMetadata": {
      "byteLimit": 2048000,
      "rowLimit": 10000
     },
     "inputWidgets": {},
     "nuid": "e7bcfbd9-2e2c-4d5a-98db-39e9b256115e",
     "showTitle": false,
     "tableResultSettingsMap": {},
     "title": ""
    }
   },
   "outputs": [
    {
     "output_type": "stream",
     "name": "stdout",
     "output_type": "stream",
     "text": [
      "+----------+-------------+-------------------+------------+\n|      date|        store|            product|sales_amount|\n+----------+-------------+-------------------+------------+\n|2025-01-01| Eric's Bikes|        Norco Storm|     4500.75|\n|2025-01-01| Eric's Bikes|  Cannondale Optimo|      5200.5|\n|2025-01-01|    CNA Bikes|Specialized S-Works|     4800.25|\n|2025-01-01|    CNA Bikes|        Trek Madone|      4600.1|\n|2025-01-01|Canary Cycles|        Norco Storm|     5100.95|\n|2025-01-01|Canary Cycles|  Cannondale Optimo|      4750.6|\n|2025-01-02| Eric's Bikes|        Norco Storm|      4450.0|\n|2025-01-02| Eric's Bikes|Specialized S-Works|      5350.3|\n|2025-01-02|    CNA Bikes|        Trek Madone|     4300.75|\n|2025-01-02|    CNA Bikes|  Cannondale Optimo|      4900.2|\n|2025-01-02|Canary Cycles|        Norco Storm|      5500.0|\n|2025-01-02|Canary Cycles|Specialized S-Works|      5600.4|\n|2025-01-03| Eric's Bikes|  Cannondale Optimo|      5100.3|\n|2025-01-03| Eric's Bikes|        Trek Madone|      4500.9|\n|2025-01-03|    CNA Bikes|        Norco Storm|     5200.75|\n|2025-01-03|    CNA Bikes|Specialized S-Works|      5450.8|\n|2025-01-03|Canary Cycles|        Norco Storm|      5700.4|\n|2025-01-03|Canary Cycles|        Trek Madone|      4600.5|\n|2025-01-04| Eric's Bikes|        Norco Storm|      4800.6|\n|2025-01-04| Eric's Bikes|Specialized S-Works|      5000.8|\n+----------+-------------+-------------------+------------+\nonly showing top 20 rows\n\n"
     ]
    }
   ],
   "source": [
    "df.show()"
   ]
  },
  {
   "cell_type": "code",
   "execution_count": 0,
   "metadata": {
    "application/vnd.databricks.v1+cell": {
     "cellMetadata": {
      "byteLimit": 2048000,
      "rowLimit": 10000
     },
     "inputWidgets": {},
     "nuid": "b780dc52-d899-46f8-9a6e-ef4d5a1c844e",
     "showTitle": false,
     "tableResultSettingsMap": {},
     "title": ""
    }
   },
   "outputs": [
    {
     "output_type": "stream",
     "name": "stdout",
     "output_type": "stream",
     "text": [
      "+----------+-------------+-------------------+------------+----+\n|      date|        store|            product|sales_amount|rank|\n+----------+-------------+-------------------+------------+----+\n|2025-01-03|    CNA Bikes|Specialized S-Works|      5450.8|   1|\n|2025-01-03|    CNA Bikes|        Norco Storm|     5200.75|   2|\n|2025-01-05|    CNA Bikes|Specialized S-Works|      5200.0|   3|\n|2025-01-02|    CNA Bikes|  Cannondale Optimo|      4900.2|   4|\n|2025-01-01|    CNA Bikes|Specialized S-Works|     4800.25|   5|\n|2025-01-04|    CNA Bikes|        Trek Madone|     4800.25|   5|\n|2025-01-05|    CNA Bikes|        Norco Storm|      4700.5|   7|\n|2025-01-04|    CNA Bikes|  Cannondale Optimo|      4700.1|   8|\n|2025-01-01|    CNA Bikes|        Trek Madone|      4600.1|   9|\n|2025-01-02|    CNA Bikes|        Trek Madone|     4300.75|  10|\n|2025-01-03|Canary Cycles|        Norco Storm|      5700.4|   1|\n|2025-01-02|Canary Cycles|Specialized S-Works|      5600.4|   2|\n|2025-01-05|Canary Cycles|        Norco Storm|      5500.9|   3|\n|2025-01-02|Canary Cycles|        Norco Storm|      5500.0|   4|\n|2025-01-04|Canary Cycles|        Norco Storm|     5400.85|   5|\n|2025-01-01|Canary Cycles|        Norco Storm|     5100.95|   6|\n|2025-01-04|Canary Cycles|Specialized S-Works|      5100.6|   7|\n|2025-01-05|Canary Cycles|  Cannondale Optimo|      4950.1|   8|\n|2025-01-01|Canary Cycles|  Cannondale Optimo|      4750.6|   9|\n|2025-01-03|Canary Cycles|        Trek Madone|      4600.5|  10|\n+----------+-------------+-------------------+------------+----+\nonly showing top 20 rows\n\n"
     ]
    }
   ],
   "source": [
    "ranking_window_by_sales = Window.partitionBy(\"store\").orderBy(desc(\"sales_amount\")).rowsBetween(Window.unboundedPreceding, Window.currentRow)\n",
    "df.withColumn(\"rank\", rank().over(ranking_window_by_sales)).show()"
   ]
  },
  {
   "cell_type": "code",
   "execution_count": 0,
   "metadata": {
    "application/vnd.databricks.v1+cell": {
     "cellMetadata": {
      "byteLimit": 2048000,
      "rowLimit": 10000
     },
     "inputWidgets": {},
     "nuid": "128e3085-dc16-4d91-bba8-17bd19e7d762",
     "showTitle": false,
     "tableResultSettingsMap": {},
     "title": ""
    }
   },
   "outputs": [
    {
     "output_type": "stream",
     "name": "stdout",
     "output_type": "stream",
     "text": [
      "+----------+-------------+-------------------+------------+------------------+\n|      date|        store|            product|sales_amount|          culm_sum|\n+----------+-------------+-------------------+------------+------------------+\n|2025-01-01|    CNA Bikes|Specialized S-Works|     4800.25|           4800.25|\n|2025-01-01|    CNA Bikes|        Trek Madone|      4600.1|           9400.35|\n|2025-01-02|    CNA Bikes|        Trek Madone|     4300.75|           13701.1|\n|2025-01-02|    CNA Bikes|  Cannondale Optimo|      4900.2|           18601.3|\n|2025-01-03|    CNA Bikes|        Norco Storm|     5200.75|          23802.05|\n|2025-01-03|    CNA Bikes|Specialized S-Works|      5450.8|          29252.85|\n|2025-01-04|    CNA Bikes|        Trek Madone|     4800.25|           34053.1|\n|2025-01-04|    CNA Bikes|  Cannondale Optimo|      4700.1|           38753.2|\n|2025-01-05|    CNA Bikes|        Norco Storm|      4700.5|           43453.7|\n|2025-01-05|    CNA Bikes|Specialized S-Works|      5200.0|           48653.7|\n|2025-01-01|Canary Cycles|        Norco Storm|     5100.95|           5100.95|\n|2025-01-01|Canary Cycles|  Cannondale Optimo|      4750.6|           9851.55|\n|2025-01-02|Canary Cycles|        Norco Storm|      5500.0|          15351.55|\n|2025-01-02|Canary Cycles|Specialized S-Works|      5600.4|20951.949999999997|\n|2025-01-03|Canary Cycles|        Norco Storm|      5700.4|          26652.35|\n|2025-01-03|Canary Cycles|        Trek Madone|      4600.5|          31252.85|\n|2025-01-04|Canary Cycles|        Norco Storm|     5400.85|           36653.7|\n|2025-01-04|Canary Cycles|Specialized S-Works|      5100.6|41754.299999999996|\n|2025-01-05|Canary Cycles|        Norco Storm|      5500.9|           47255.2|\n|2025-01-05|Canary Cycles|  Cannondale Optimo|      4950.1|52205.299999999996|\n+----------+-------------+-------------------+------------+------------------+\nonly showing top 20 rows\n\n"
     ]
    }
   ],
   "source": [
    "running_sales_window = Window.partitionBy(\"store\").orderBy(\"date\").rowsBetween(Window.unboundedPreceding, Window.currentRow)\n",
    "df.withColumn(\"culm_sum\", sum(col(\"sales_amount\")).over(running_sales_window)).show()"
   ]
  },
  {
   "cell_type": "code",
   "execution_count": 0,
   "metadata": {
    "application/vnd.databricks.v1+cell": {
     "cellMetadata": {
      "byteLimit": 2048000,
      "rowLimit": 10000
     },
     "inputWidgets": {},
     "nuid": "c1c59350-9e7f-43bd-8042-34c6c2166184",
     "showTitle": false,
     "tableResultSettingsMap": {},
     "title": ""
    }
   },
   "outputs": [
    {
     "output_type": "stream",
     "name": "stdout",
     "output_type": "stream",
     "text": [
      "+----------+-------------+-------------------+------------+-----------------+\n|      date|        store|            product|sales_amount|              avg|\n+----------+-------------+-------------------+------------+-----------------+\n|2025-01-01|    CNA Bikes|Specialized S-Works|     4800.25|          4800.25|\n|2025-01-01|    CNA Bikes|        Trek Madone|      4600.1|         4700.175|\n|2025-01-02|    CNA Bikes|        Trek Madone|     4300.75|4567.033333333334|\n|2025-01-02|    CNA Bikes|  Cannondale Optimo|      4900.2|4600.349999999999|\n|2025-01-03|    CNA Bikes|        Norco Storm|     5200.75|4800.566666666667|\n|2025-01-03|    CNA Bikes|Specialized S-Works|      5450.8|5183.916666666667|\n|2025-01-04|    CNA Bikes|        Trek Madone|     4800.25|5150.599999999999|\n|2025-01-04|    CNA Bikes|  Cannondale Optimo|      4700.1|4983.716666666666|\n|2025-01-05|    CNA Bikes|        Norco Storm|      4700.5|4733.616666666667|\n|2025-01-05|    CNA Bikes|Specialized S-Works|      5200.0|4866.866666666667|\n|2025-01-01|Canary Cycles|        Norco Storm|     5100.95|          5100.95|\n|2025-01-01|Canary Cycles|  Cannondale Optimo|      4750.6|         4925.775|\n|2025-01-02|Canary Cycles|        Norco Storm|      5500.0|5117.183333333333|\n|2025-01-02|Canary Cycles|Specialized S-Works|      5600.4|5283.666666666667|\n|2025-01-03|Canary Cycles|        Norco Storm|      5700.4|5600.266666666666|\n|2025-01-03|Canary Cycles|        Trek Madone|      4600.5|5300.433333333333|\n|2025-01-04|Canary Cycles|        Norco Storm|     5400.85|5233.916666666667|\n|2025-01-04|Canary Cycles|Specialized S-Works|      5100.6|5033.983333333334|\n|2025-01-05|Canary Cycles|        Norco Storm|      5500.9|5334.116666666667|\n|2025-01-05|Canary Cycles|  Cannondale Optimo|      4950.1|5183.866666666667|\n+----------+-------------+-------------------+------------+-----------------+\nonly showing top 20 rows\n\n"
     ]
    }
   ],
   "source": [
    "sales_last_3_days_window = Window.partitionBy(\"store\").orderBy(\"date\").rowsBetween(-2, 0)\n",
    "df.withColumn(\"avg\", avg(\"sales_amount\").over(sales_last_3_days_window)).show()"
   ]
  }
 ],
 "metadata": {
  "application/vnd.databricks.v1+notebook": {
   "computePreferences": null,
   "dashboards": [],
   "environmentMetadata": {
    "base_environment": "",
    "client": "1"
   },
   "language": "python",
   "notebookMetadata": {
    "pythonIndentUnit": 4
   },
   "notebookName": "lab_8",
   "widgets": {}
  }
 },
 "nbformat": 4,
 "nbformat_minor": 0
}
