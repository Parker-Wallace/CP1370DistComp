{
 "cells": [
  {
   "cell_type": "markdown",
   "metadata": {},
   "source": [
    "# Lab #5 Spark Dataframes and Spark SQL "
   ]
  },
  {
   "cell_type": "code",
   "execution_count": 0,
   "metadata": {
    "application/vnd.databricks.v1+cell": {
     "cellMetadata": {
      "byteLimit": 2048000,
      "rowLimit": 10000
     },
     "inputWidgets": {},
     "nuid": "00d02769-9ad0-40b3-bded-d5c6926a0d52",
     "showTitle": false,
     "tableResultSettingsMap": {},
     "title": ""
    }
   },
   "outputs": [],
   "source": [
    "from pyspark.sql.functions import col, lit, concat, substring\n",
    "\n",
    "tsv_dataframe = spark.read.option(\"sep\", \"\\t\").option(\"header\", \"false\").csv(\"dbfs:/FileStore/tables/movie_ratings.tsv\")\n",
    "column_names = [\"rating\", \"title\", \"year\"]\n",
    "tsv_dataframe = tsv_dataframe.toDF(*column_names)\n",
    "tsv_dataframe = tsv_dataframe.withColumn(\"rating\", col(\"rating\").cast(\"double\"))\n",
    "df = spark.read.json(\"dbfs:/FileStore/movies.json\")\n",
    "\n"
   ]
  },
  {
   "cell_type": "markdown",
   "metadata": {},
   "source": [
    "Repeat Steps #1 - #4 from Lab #3. This will create a spark dataframe. Name this dataframe `movies_with_decade.`"
   ]
  },
  {
   "cell_type": "code",
   "execution_count": 0,
   "metadata": {
    "application/vnd.databricks.v1+cell": {
     "cellMetadata": {
      "byteLimit": 2048000,
      "rowLimit": 10000
     },
     "inputWidgets": {},
     "nuid": "240f44a0-0196-423c-bf9b-32cdb915695c",
     "showTitle": false,
     "tableResultSettingsMap": {},
     "title": ""
    }
   },
   "outputs": [
    {
     "name": "stdout",
     "output_type": "stream",
     "text": [
      "+-----------------+--------------------+-------------+------+\n",
      "|       actor_name|         movie_title|produced_year|Decade|\n",
      "+-----------------+--------------------+-------------+------+\n",
      "|McClure, Marc (I)|        Coach Carter|         2005|  00's|\n",
      "|McClure, Marc (I)|         Superman II|         1980|  80's|\n",
      "|McClure, Marc (I)|           Apollo 13|         1995|  90's|\n",
      "|McClure, Marc (I)|            Superman|         1978|  70's|\n",
      "|McClure, Marc (I)|  Back to the Future|         1985|  80's|\n",
      "|McClure, Marc (I)|Back to the Futur...|         1990|  90's|\n",
      "|Cooper, Chris (I)|  Me, Myself & Irene|         2000|  00's|\n",
      "|Cooper, Chris (I)|         October Sky|         1999|  90's|\n",
      "|Cooper, Chris (I)|              Capote|         2005|  00's|\n",
      "|Cooper, Chris (I)|The Bourne Supremacy|         2004|  00's|\n",
      "+-----------------+--------------------+-------------+------+\n",
      "only showing top 10 rows\n",
      "\n"
     ]
    }
   ],
   "source": [
    "movies_with_decade = df.withColumn(\"Decade\",concat(substring(df.produced_year.cast(\"String\"), -2, 1), lit(\"0's\")))\n",
    "movies_with_decade.show(10)"
   ]
  },
  {
   "cell_type": "markdown",
   "metadata": {},
   "source": [
    "1. Create a sql view using this “movies_with_decade” dataframe. Run a command to\n",
    "display all the views ( You will need to look up this command). ( 2 marks )"
   ]
  },
  {
   "cell_type": "code",
   "execution_count": 0,
   "metadata": {
    "application/vnd.databricks.v1+cell": {
     "cellMetadata": {
      "byteLimit": 2048000,
      "rowLimit": 10000
     },
     "inputWidgets": {},
     "nuid": "4208b677-9f99-4ddb-b128-08261740005a",
     "showTitle": false,
     "tableResultSettingsMap": {},
     "title": ""
    }
   },
   "outputs": [
    {
     "name": "stdout",
     "output_type": "stream",
     "text": [
      "+-----------------+--------------------+-------------+------+\n",
      "|       actor_name|         movie_title|produced_year|Decade|\n",
      "+-----------------+--------------------+-------------+------+\n",
      "|McClure, Marc (I)|        Coach Carter|         2005|  00's|\n",
      "|McClure, Marc (I)|         Superman II|         1980|  80's|\n",
      "|McClure, Marc (I)|           Apollo 13|         1995|  90's|\n",
      "|McClure, Marc (I)|            Superman|         1978|  70's|\n",
      "|McClure, Marc (I)|  Back to the Future|         1985|  80's|\n",
      "|McClure, Marc (I)|Back to the Futur...|         1990|  90's|\n",
      "|Cooper, Chris (I)|  Me, Myself & Irene|         2000|  00's|\n",
      "|Cooper, Chris (I)|         October Sky|         1999|  90's|\n",
      "|Cooper, Chris (I)|              Capote|         2005|  00's|\n",
      "|Cooper, Chris (I)|The Bourne Supremacy|         2004|  00's|\n",
      "|Cooper, Chris (I)|         The Patriot|         2000|  00's|\n",
      "|Cooper, Chris (I)|            The Town|         2010|  10's|\n",
      "|Cooper, Chris (I)|          Seabiscuit|         2003|  00's|\n",
      "|Cooper, Chris (I)|      A Time to Kill|         1996|  90's|\n",
      "|Cooper, Chris (I)|Where the Wild Th...|         2009|  00's|\n",
      "|Cooper, Chris (I)|         The Muppets|         2011|  10's|\n",
      "|Cooper, Chris (I)|     American Beauty|         1999|  90's|\n",
      "|Cooper, Chris (I)|             Syriana|         2005|  00's|\n",
      "|Cooper, Chris (I)| The Horse Whisperer|         1998|  90's|\n",
      "|Cooper, Chris (I)|             Jarhead|         2005|  00's|\n",
      "+-----------------+--------------------+-------------+------+\n",
      "only showing top 20 rows\n",
      "\n"
     ]
    }
   ],
   "source": [
    "movies_with_decade_dataframe.createOrReplaceTempView(\"movies_with_decade_temp_view\")\n",
    "spark.sql(\"SELECT * FROM movies_with_decade_temp_view\").show()\n"
   ]
  },
  {
   "cell_type": "markdown",
   "metadata": {},
   "source": [
    "2. Use the Spark Session “sql” function to determine which decade has the most number of movies. ( 4 marks )"
   ]
  },
  {
   "cell_type": "code",
   "execution_count": 0,
   "metadata": {
    "application/vnd.databricks.v1+cell": {
     "cellMetadata": {
      "byteLimit": 2048000,
      "rowLimit": 10000
     },
     "inputWidgets": {},
     "nuid": "d58f7ddb-7138-4813-ad8a-7a9ef836bb73",
     "showTitle": false,
     "tableResultSettingsMap": {},
     "title": ""
    }
   },
   "outputs": [
    {
     "name": "stdout",
     "output_type": "stream",
     "text": [
      "+------+------------+\n",
      "|Decade|num_produced|\n",
      "+------+------------+\n",
      "|  00's|       18622|\n",
      "+------+------------+\n",
      "\n"
     ]
    }
   ],
   "source": [
    "\n",
    "spark.sql(\"Select Decade, count(Decade) as num_produced from movies_with_decade_temp_view group by Decade order by num_produced desc limit 1\").show()"
   ]
  },
  {
   "cell_type": "markdown",
   "metadata": {},
   "source": [
    "3. Use the Spark Session “sql” function to compute the number of movies each actor was in. The output should have two columns: actor, count. The output should be ordered by the count in descending order. ( 4 marks)"
   ]
  },
  {
   "cell_type": "code",
   "execution_count": 0,
   "metadata": {
    "application/vnd.databricks.v1+cell": {
     "cellMetadata": {
      "byteLimit": 2048000,
      "rowLimit": 10000
     },
     "inputWidgets": {},
     "nuid": "e83e1a47-e903-4145-af68-7d649894324e",
     "showTitle": false,
     "tableResultSettingsMap": {},
     "title": ""
    }
   },
   "outputs": [
    {
     "name": "stdout",
     "output_type": "stream",
     "text": [
      "+-------------------+-----+\n",
      "|              actor|count|\n",
      "+-------------------+-----+\n",
      "|   Tatasciore, Fred|   38|\n",
      "|      Welker, Frank|   38|\n",
      "| Jackson, Samuel L.|   32|\n",
      "|      Harnell, Jess|   31|\n",
      "|        Damon, Matt|   27|\n",
      "|      Willis, Bruce|   27|\n",
      "|  Cummings, Jim (I)|   26|\n",
      "|         Hanks, Tom|   25|\n",
      "|   Lynn, Sherry (I)|   25|\n",
      "|    McGowan, Mickie|   25|\n",
      "|    Bergen, Bob (I)|   25|\n",
      "|      Proctor, Phil|   24|\n",
      "|   Wilson, Owen (I)|   23|\n",
      "|        Cruise, Tom|   23|\n",
      "|         Pitt, Brad|   23|\n",
      "|Freeman, Morgan (I)|   22|\n",
      "|Williams, Robin (I)|   22|\n",
      "|       Depp, Johnny|   22|\n",
      "|     Morrison, Rana|   22|\n",
      "|      Diaz, Cameron|   21|\n",
      "+-------------------+-----+\n",
      "only showing top 20 rows\n",
      "\n"
     ]
    }
   ],
   "source": [
    "spark.sql(\"select actor_name as actor, count(actor_name) as count from movies_with_decade_temp_view group by actor order by count desc \").show()"
   ]
  },
  {
   "cell_type": "markdown",
   "metadata": {},
   "source": [
    "\n",
    "4. Compute the highest-rated movie per year. The output should have only one movie per year, and it should contain three columns: \n",
    "    - year\n",
    "    - movie title\n",
    "    - rating.\n",
    "- One solution to this is to use a correlated subquery. (6 marks)"
   ]
  },
  {
   "cell_type": "code",
   "execution_count": 0,
   "metadata": {
    "application/vnd.databricks.v1+cell": {
     "cellMetadata": {
      "byteLimit": 2048000,
      "rowLimit": 10000
     },
     "inputWidgets": {},
     "nuid": "b8ad6890-5f70-4ddf-9e64-3cb4dc1b8d83",
     "showTitle": false,
     "tableResultSettingsMap": {},
     "title": ""
    }
   },
   "outputs": [
    {
     "name": "stdout",
     "output_type": "stream",
     "text": [
      "+----+--------------------+-------+\n",
      "|year|               title| rating|\n",
      "+----+--------------------+-------+\n",
      "|2013|       The Wolverine|   12.5|\n",
      "|2012|                1066|12.8205|\n",
      "|2011|Ang babae sa sept...|14.1527|\n",
      "|2010|           Beginners|14.2173|\n",
      "|2009|Kimmy Dora: Kamba...|13.7234|\n",
      "|2008|         Man on Wire|14.0356|\n",
      "|2007|     Hostel: Part II|13.7432|\n",
      "|2006|Love and Other Di...|13.7696|\n",
      "|2005|             The Man|14.1976|\n",
      "|2004|           Sleepover|14.2073|\n",
      "|2003|               Gigli|14.1829|\n",
      "|2002|         Extreme Ops|12.8821|\n",
      "|2001|       Tortilla Soup|14.0009|\n",
      "|2000|              Taxi 2|14.1178|\n",
      "|1999|       Sofies verden|14.0421|\n",
      "|1998|            My Giant| 14.015|\n",
      "|1997|  Leave It to Beaver|13.7106|\n",
      "|1996|          Sgt. Bilko|   14.1|\n",
      "|1995|Something to Talk...|13.0879|\n",
      "|1994|Änglagård - Andra...|14.1242|\n",
      "+----+--------------------+-------+\n",
      "only showing top 20 rows\n",
      "\n"
     ]
    }
   ],
   "source": [
    "tsv_dataframe.createOrReplaceTempView(\"tsv_temp_view\")\n",
    "spark.sql(\"select year, title, rating from tsv_temp_view WHERE rating = (SELECT MAX(rating) FROM tsv_temp_view m2 WHERE m2.year = tsv_temp_view.year) order by year desc\").show()"
   ]
  },
  {
   "cell_type": "markdown",
   "metadata": {},
   "source": [
    "5. Determine which pair of actors worked together most. \n",
    "    - Working together is defined as appearing in the same movie. The output should have three columns: \n",
    "        - actor1, \n",
    "        - actor2\n",
    "        - count. \n",
    "    - The output should be sorted by the count in descending order. \n",
    "    - The solution to this question requires doing self-join. ( 6 marks)"
   ]
  },
  {
   "cell_type": "code",
   "execution_count": 0,
   "metadata": {
    "application/vnd.databricks.v1+cell": {
     "cellMetadata": {
      "byteLimit": 2048000,
      "rowLimit": 10000
     },
     "inputWidgets": {},
     "nuid": "b3975c9c-7d4c-47fc-85ef-fa3b97626f6e",
     "showTitle": false,
     "tableResultSettingsMap": {},
     "title": ""
    }
   },
   "outputs": [
    {
     "name": "stdout",
     "output_type": "stream",
     "text": [
      "+------------------+-----------------+-----+\n",
      "|            actor1|           actor2|count|\n",
      "+------------------+-----------------+-----+\n",
      "|   McGowan, Mickie| Lynn, Sherry (I)|   23|\n",
      "|   McGowan, Mickie|  Bergen, Bob (I)|   19|\n",
      "|  Lynn, Sherry (I)|  Bergen, Bob (I)|   19|\n",
      "|   McGowan, Mickie|  Angel, Jack (I)|   17|\n",
      "|  Lynn, Sherry (I)|  Angel, Jack (I)|   17|\n",
      "|       Rabson, Jan|  McGowan, Mickie|   16|\n",
      "|       Rabson, Jan| Lynn, Sherry (I)|   16|\n",
      "|   McGowan, Mickie|Darling, Jennifer|   15|\n",
      "|Schneider, Rob (I)|Sandler, Adam (I)|   14|\n",
      "|     Harnell, Jess|  Bergen, Bob (I)|   14|\n",
      "|   McGowan, Mickie| Farmer, Bill (I)|   14|\n",
      "|  Lynn, Sherry (I)|Darling, Jennifer|   14|\n",
      "|   McGowan, Mickie|    Harnell, Jess|   14|\n",
      "|       Rabson, Jan|  Bergen, Bob (I)|   14|\n",
      "|   Bergen, Bob (I)|  Angel, Jack (I)|   13|\n",
      "|  Lynn, Sherry (I)| Farmer, Bill (I)|   13|\n",
      "|   Bumpass, Rodger|  Bergen, Bob (I)|   13|\n",
      "|  Lynn, Sherry (I)|    Harnell, Jess|   13|\n",
      "|  Farmer, Bill (I)|  Bergen, Bob (I)|   12|\n",
      "| Sandler, Adam (I)|    Covert, Allen|   12|\n",
      "+------------------+-----------------+-----+\n",
      "only showing top 20 rows\n",
      "\n"
     ]
    }
   ],
   "source": [
    "spark.sql(\"\"\"\n",
    "          select m1.actor_name as actor1, m2.actor_name as actor2, count(*) as count\n",
    "          from movies_with_decade_temp_view m1 \n",
    "          join movies_with_decade_temp_view m2 on m1.movie_title = m2.movie_title\n",
    "          and m1.actor_name > m2.actor_name\n",
    "          group by actor1, actor2\n",
    "          order by count desc\n",
    "          \"\"\").show()\n"
   ]
  }
 ],
 "metadata": {
  "application/vnd.databricks.v1+notebook": {
   "computePreferences": null,
   "dashboards": [],
   "environmentMetadata": {
    "base_environment": "",
    "client": "1"
   },
   "language": "python",
   "notebookMetadata": {
    "pythonIndentUnit": 4
   },
   "notebookName": "Lab_5",
   "widgets": {}
  },
  "language_info": {
   "name": "python"
  }
 },
 "nbformat": 4,
 "nbformat_minor": 0
}
